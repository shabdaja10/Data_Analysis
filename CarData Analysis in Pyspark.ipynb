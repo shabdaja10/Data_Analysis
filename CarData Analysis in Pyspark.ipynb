{
 "cells": [
  {
   "cell_type": "code",
   "execution_count": 1,
   "id": "83c667a6-63d2-45ba-a42f-f0d3b1f16ce7",
   "metadata": {},
   "outputs": [],
   "source": [
    "import findspark"
   ]
  },
  {
   "cell_type": "code",
   "execution_count": 2,
   "id": "615f0926-8fc7-4b91-9b16-0a8a23c603e4",
   "metadata": {},
   "outputs": [
    {
     "data": {
      "text/plain": [
       "'E:\\\\Softwares\\\\Spark\\\\spark-4.0.0-bin-hadoop3'"
      ]
     },
     "execution_count": 2,
     "metadata": {},
     "output_type": "execute_result"
    }
   ],
   "source": [
    "findspark.find()"
   ]
  },
  {
   "cell_type": "code",
   "execution_count": 3,
   "id": "f39738b6-4e78-46f4-8c41-b3e50ce36542",
   "metadata": {},
   "outputs": [],
   "source": [
    "#initiate spark\n",
    "import pyspark\n",
    "from pyspark import SparkContext, SparkConf\n",
    "from pyspark.sql import SparkSession\n",
    "c = pyspark.SparkConf().setAppName(\"test_app\").setMaster(\"local\")\n",
    "sc = pyspark.SparkContext(conf = c)\n",
    "spark = SparkSession(sc)"
   ]
  },
  {
   "cell_type": "code",
   "execution_count": 4,
   "id": "48ee25b9-22f1-47fa-ac80-9c7f0d730c75",
   "metadata": {},
   "outputs": [],
   "source": [
    "from pyspark.sql.functions import * "
   ]
  },
  {
   "cell_type": "code",
   "execution_count": 5,
   "id": "ff5a0641-ff01-45b2-bbb6-f0d13cc47f20",
   "metadata": {},
   "outputs": [],
   "source": [
    "# only 1 instance of spark is allowed within session"
   ]
  },
  {
   "cell_type": "code",
   "execution_count": 6,
   "id": "dcf4a49f-88f7-4e45-a753-157844174c12",
   "metadata": {},
   "outputs": [],
   "source": [
    "data = spark.read.csv(\"F:\\\\KSR\\\\KSRDataSets-main\\\\Car_Data.csv\", header=True, inferSchema=True)"
   ]
  },
  {
   "cell_type": "code",
   "execution_count": 7,
   "id": "8ffd2d15-e10d-4526-a63f-2dc9d9e68d5a",
   "metadata": {},
   "outputs": [
    {
     "data": {
      "text/plain": [
       "pyspark.sql.classic.dataframe.DataFrame"
      ]
     },
     "execution_count": 7,
     "metadata": {},
     "output_type": "execute_result"
    }
   ],
   "source": [
    "type(data)"
   ]
  },
  {
   "cell_type": "code",
   "execution_count": 8,
   "id": "821d9581-910c-4ef8-aab9-df9fcfb07cbb",
   "metadata": {},
   "outputs": [
    {
     "name": "stdout",
     "output_type": "stream",
     "text": [
      "+--------+----+-------------+-------------+----------+---------+-----------+------------+---------+\n",
      "|Car_Name|Year|Selling_Price|Present_Price|Kms_Driven|Fuel_Type|Seller_Type|Transmission|Car_Owner|\n",
      "+--------+----+-------------+-------------+----------+---------+-----------+------------+---------+\n",
      "|    ritz|2014|         3.35|         5.59|     27000|   Petrol|     Dealer|      Manual|1st Owner|\n",
      "|     sx4|2013|         4.75|         9.54|     43000|   Diesel|     Dealer|      Manual|1st Owner|\n",
      "|    ciaz|2017|         7.25|         9.85|      6900|   Petrol|     Dealer|      Manual|1st Owner|\n",
      "| wagon r|2011|         2.85|         4.15|      5200|   Petrol|     Dealer|      Manual|1st Owner|\n",
      "+--------+----+-------------+-------------+----------+---------+-----------+------------+---------+\n",
      "only showing top 4 rows\n"
     ]
    }
   ],
   "source": [
    "data.show(4)"
   ]
  },
  {
   "cell_type": "code",
   "execution_count": 9,
   "id": "59926a52-a3eb-40f4-a5fb-4fdd8e8aca0e",
   "metadata": {},
   "outputs": [
    {
     "data": {
      "text/plain": [
       "(301, 9)"
      ]
     },
     "execution_count": 9,
     "metadata": {},
     "output_type": "execute_result"
    }
   ],
   "source": [
    "data.count(), len(data.columns)"
   ]
  },
  {
   "cell_type": "code",
   "execution_count": 10,
   "id": "8791ad1e-eab1-4e4f-ad29-a3679d6f5b35",
   "metadata": {},
   "outputs": [
    {
     "data": {
      "text/plain": [
       "['Car_Name',\n",
       " 'Year',\n",
       " 'Selling_Price',\n",
       " 'Present_Price',\n",
       " 'Kms_Driven',\n",
       " 'Fuel_Type',\n",
       " 'Seller_Type',\n",
       " 'Transmission',\n",
       " 'Car_Owner']"
      ]
     },
     "execution_count": 10,
     "metadata": {},
     "output_type": "execute_result"
    }
   ],
   "source": [
    "data.columns"
   ]
  },
  {
   "cell_type": "code",
   "execution_count": 11,
   "id": "b0f00888-75f8-4601-ae49-c2821a15f675",
   "metadata": {},
   "outputs": [
    {
     "name": "stdout",
     "output_type": "stream",
     "text": [
      "+--------+----+-------------+-------------+----------+---------+-----------+------------+---------+\n",
      "|Car_Name|Year|Selling_Price|Present_Price|Kms_Driven|Fuel_Type|Seller_Type|Transmission|Car_Owner|\n",
      "+--------+----+-------------+-------------+----------+---------+-----------+------------+---------+\n",
      "|    ritz|2014|         3.35|         5.59|     27000|   Petrol|     Dealer|      Manual|1st Owner|\n",
      "|   swift|2014|          4.6|         6.87|     42450|   Diesel|     Dealer|      Manual|2nd Owner|\n",
      "|alto k10|2014|          2.5|         3.46|     45280|   Petrol|     Dealer|      Manual|1st Owner|\n",
      "|   swift|2014|         4.95|         7.49|     39000|   Diesel|     Dealer|      Manual|1st Owner|\n",
      "|  ertiga|2014|          6.0|         9.95|     45000|   Diesel|     Dealer|      Manual|1st Owner|\n",
      "+--------+----+-------------+-------------+----------+---------+-----------+------------+---------+\n",
      "only showing top 5 rows\n"
     ]
    }
   ],
   "source": [
    "data[data['Year'] == 2014].show(5)"
   ]
  },
  {
   "cell_type": "code",
   "execution_count": 12,
   "id": "658ce1ec-e437-4605-a7b3-27ca98b899a3",
   "metadata": {},
   "outputs": [
    {
     "name": "stdout",
     "output_type": "stream",
     "text": [
      "+--------+----+-------------+-------------+----------+---------+-----------+------------+---------+\n",
      "|Car_Name|Year|Selling_Price|Present_Price|Kms_Driven|Fuel_Type|Seller_Type|Transmission|Car_Owner|\n",
      "+--------+----+-------------+-------------+----------+---------+-----------+------------+---------+\n",
      "|    ritz|2014|         3.35|         5.59|     27000|   Petrol|     Dealer|      Manual|1st Owner|\n",
      "|alto k10|2014|          2.5|         3.46|     45280|   Petrol|     Dealer|      Manual|1st Owner|\n",
      "|alto k10|2014|         2.55|         3.98|     46706|   Petrol|     Dealer|      Manual|1st Owner|\n",
      "|    ciaz|2014|          7.5|        12.04|     15000|   Petrol|     Dealer|   Automatic|1st Owner|\n",
      "| etios g|2014|          4.1|          6.8|     39485|   Petrol|     Dealer|      Manual|1st Owner|\n",
      "+--------+----+-------------+-------------+----------+---------+-----------+------------+---------+\n",
      "only showing top 5 rows\n"
     ]
    }
   ],
   "source": [
    "data[(data['Year']==2014) & (data['Fuel_Type'] =='Petrol')].show(5)"
   ]
  },
  {
   "cell_type": "code",
   "execution_count": 13,
   "id": "3a390039-c7ad-466c-bb34-d61d61ad8781",
   "metadata": {},
   "outputs": [
    {
     "data": {
      "text/plain": [
       "[('Car_Name', 'string'),\n",
       " ('Year', 'int'),\n",
       " ('Selling_Price', 'double'),\n",
       " ('Present_Price', 'double'),\n",
       " ('Kms_Driven', 'int'),\n",
       " ('Fuel_Type', 'string'),\n",
       " ('Seller_Type', 'string'),\n",
       " ('Transmission', 'string'),\n",
       " ('Car_Owner', 'string')]"
      ]
     },
     "execution_count": 13,
     "metadata": {},
     "output_type": "execute_result"
    }
   ],
   "source": [
    "data.dtypes"
   ]
  },
  {
   "cell_type": "code",
   "execution_count": 14,
   "id": "0037b684-6d62-4b89-975c-3ba1b536c65c",
   "metadata": {},
   "outputs": [
    {
     "data": {
      "text/plain": [
       "[('Car_Name', 'string'),\n",
       " ('Year', 'int'),\n",
       " ('Selling_Price', 'double'),\n",
       " ('Present_Price', 'double'),\n",
       " ('Kms_Driven', 'int'),\n",
       " ('Fuel_Type', 'string'),\n",
       " ('Seller_Type', 'string'),\n",
       " ('Transmission', 'string'),\n",
       " ('Car_Owner', 'string')]"
      ]
     },
     "execution_count": 14,
     "metadata": {},
     "output_type": "execute_result"
    }
   ],
   "source": [
    "# inferSchema=True --> to capture datatypes\n",
    "data.dtypes"
   ]
  },
  {
   "cell_type": "code",
   "execution_count": 15,
   "id": "3a17bc43-8f0e-413b-9e9d-60fb299da744",
   "metadata": {},
   "outputs": [
    {
     "name": "stdout",
     "output_type": "stream",
     "text": [
      "root\n",
      " |-- Car_Name: string (nullable = true)\n",
      " |-- Year: integer (nullable = true)\n",
      " |-- Selling_Price: double (nullable = true)\n",
      " |-- Present_Price: double (nullable = true)\n",
      " |-- Kms_Driven: integer (nullable = true)\n",
      " |-- Fuel_Type: string (nullable = true)\n",
      " |-- Seller_Type: string (nullable = true)\n",
      " |-- Transmission: string (nullable = true)\n",
      " |-- Car_Owner: string (nullable = true)\n",
      "\n"
     ]
    }
   ],
   "source": [
    "data.printSchema()"
   ]
  },
  {
   "cell_type": "code",
   "execution_count": 16,
   "id": "0ea0812c-b42c-4b39-91b6-24c46c2a0b77",
   "metadata": {},
   "outputs": [
    {
     "data": {
      "text/plain": [
       "38"
      ]
     },
     "execution_count": 16,
     "metadata": {},
     "output_type": "execute_result"
    }
   ],
   "source": [
    "data[data['Year']==2014].count()"
   ]
  },
  {
   "cell_type": "code",
   "execution_count": 17,
   "id": "fd490139-43d2-4792-973e-0704a3056ae7",
   "metadata": {},
   "outputs": [
    {
     "name": "stdout",
     "output_type": "stream",
     "text": [
      "+--------+----+-------------+-------------+----------+---------+-----------+------------+---------+\n",
      "|Car_Name|Year|Selling_Price|Present_Price|Kms_Driven|Fuel_Type|Seller_Type|Transmission|Car_Owner|\n",
      "+--------+----+-------------+-------------+----------+---------+-----------+------------+---------+\n",
      "|    ritz|2014|         3.35|         5.59|     27000|   Petrol|     Dealer|      Manual|1st Owner|\n",
      "|     sx4|2013|         4.75|         9.54|     43000|   Diesel|     Dealer|      Manual|1st Owner|\n",
      "|    ciaz|2017|         7.25|         9.85|      6900|   Petrol|     Dealer|      Manual|1st Owner|\n",
      "| wagon r|2011|         2.85|         4.15|      5200|   Petrol|     Dealer|      Manual|1st Owner|\n",
      "|   swift|2014|          4.6|         6.87|     42450|   Diesel|     Dealer|      Manual|2nd Owner|\n",
      "+--------+----+-------------+-------------+----------+---------+-----------+------------+---------+\n",
      "only showing top 5 rows\n"
     ]
    }
   ],
   "source": [
    "data.select('*').show(5)"
   ]
  },
  {
   "cell_type": "code",
   "execution_count": 18,
   "id": "67462ad0-4fc7-4ac6-a343-d835110be536",
   "metadata": {},
   "outputs": [
    {
     "name": "stdout",
     "output_type": "stream",
     "text": [
      "+--------+----+-------------+\n",
      "|Car_Name|Year|Selling_Price|\n",
      "+--------+----+-------------+\n",
      "|    ritz|2014|         3.35|\n",
      "|     sx4|2013|         4.75|\n",
      "|    ciaz|2017|         7.25|\n",
      "| wagon r|2011|         2.85|\n",
      "|   swift|2014|          4.6|\n",
      "+--------+----+-------------+\n",
      "only showing top 5 rows\n"
     ]
    }
   ],
   "source": [
    "data.select('Car_Name', 'Year', 'Selling_Price').show(5)"
   ]
  },
  {
   "cell_type": "code",
   "execution_count": 19,
   "id": "b48627b6-1bce-400c-bd40-565e589b4b82",
   "metadata": {},
   "outputs": [
    {
     "name": "stdout",
     "output_type": "stream",
     "text": [
      "+--------+----+-------------+\n",
      "|Car_Name|Year|Selling_Price|\n",
      "+--------+----+-------------+\n",
      "|    ritz|2014|         3.35|\n",
      "|     sx4|2013|         4.75|\n",
      "|    ciaz|2017|         7.25|\n",
      "| wagon r|2011|         2.85|\n",
      "|   swift|2014|          4.6|\n",
      "+--------+----+-------------+\n",
      "only showing top 5 rows\n"
     ]
    }
   ],
   "source": [
    "data[['Car_Name', 'Year', 'Selling_Price']].show(5)"
   ]
  },
  {
   "cell_type": "code",
   "execution_count": 20,
   "id": "f1f61a01-abd8-445a-b8ac-4b970be5d778",
   "metadata": {},
   "outputs": [
    {
     "name": "stdout",
     "output_type": "stream",
     "text": [
      "+--------+----+-------------+---------+\n",
      "|Car_Name|Year|Selling_Price|Fuel_Type|\n",
      "+--------+----+-------------+---------+\n",
      "|    ritz|2014|         3.35|   Petrol|\n",
      "|    ciaz|2017|         7.25|   Petrol|\n",
      "| wagon r|2011|         2.85|   Petrol|\n",
      "|    ciaz|2015|         6.75|   Petrol|\n",
      "|alto 800|2017|         2.85|   Petrol|\n",
      "+--------+----+-------------+---------+\n",
      "only showing top 5 rows\n"
     ]
    }
   ],
   "source": [
    "data[data['Fuel_Type'] == 'Petrol'][['Car_Name', 'Year', 'Selling_Price', 'Fuel_Type']].show(5)"
   ]
  },
  {
   "cell_type": "code",
   "execution_count": 21,
   "id": "3d78d811-692f-4f13-9e7a-f83e378be178",
   "metadata": {},
   "outputs": [
    {
     "name": "stdout",
     "output_type": "stream",
     "text": [
      "+--------+----+-------------+---------+\n",
      "|Car_Name|Year|Selling_Price|Fuel_Type|\n",
      "+--------+----+-------------+---------+\n",
      "|    ritz|2014|         3.35|   Petrol|\n",
      "|    ciaz|2017|         7.25|   Petrol|\n",
      "| wagon r|2011|         2.85|   Petrol|\n",
      "|    ciaz|2015|         6.75|   Petrol|\n",
      "|alto 800|2017|         2.85|   Petrol|\n",
      "+--------+----+-------------+---------+\n",
      "only showing top 5 rows\n"
     ]
    }
   ],
   "source": [
    "data.select('Car_Name', 'Year', 'Selling_Price', 'Fuel_Type').filter(col('Fuel_Type')=='Petrol').show(5)"
   ]
  },
  {
   "cell_type": "code",
   "execution_count": 22,
   "id": "7848ce5c-f8f4-4694-a107-b14d7a81acc2",
   "metadata": {},
   "outputs": [
    {
     "name": "stdout",
     "output_type": "stream",
     "text": [
      "+--------+-------------+----+---------+\n",
      "|Car_Name|Selling_Price|Year|Fuel_Type|\n",
      "+--------+-------------+----+---------+\n",
      "|    ritz|         3.35|2014|   Petrol|\n",
      "|alto k10|          2.5|2014|   Petrol|\n",
      "|alto k10|         2.55|2014|   Petrol|\n",
      "|    ciaz|          7.5|2014|   Petrol|\n",
      "| etios g|          4.1|2014|   Petrol|\n",
      "+--------+-------------+----+---------+\n",
      "only showing top 5 rows\n"
     ]
    }
   ],
   "source": [
    "# multiple col filter\n",
    "data.select('Car_Name', 'Selling_Price','Year', 'Fuel_Type')\\\n",
    ".filter((col('Fuel_Type')=='Petrol') & (col('Year')==2014)).show(5)"
   ]
  },
  {
   "cell_type": "code",
   "execution_count": 23,
   "id": "da5f44bb-5016-45f6-8926-d6a7b4c13940",
   "metadata": {},
   "outputs": [
    {
     "name": "stdout",
     "output_type": "stream",
     "text": [
      "+------------+-------------+\n",
      "|    Car_Name|Selling_Price|\n",
      "+------------+-------------+\n",
      "|land cruiser|         35.0|\n",
      "|    fortuner|         33.0|\n",
      "|    fortuner|         23.5|\n",
      "|    fortuner|         23.0|\n",
      "|      innova|         23.0|\n",
      "+------------+-------------+\n",
      "only showing top 5 rows\n"
     ]
    }
   ],
   "source": [
    "# Sort values based on Selling_Price\n",
    "data.select('Car_Name', 'Selling_Price').sort(desc('Selling_Price')).show(5)"
   ]
  },
  {
   "cell_type": "code",
   "execution_count": 24,
   "id": "70fcde89-69a3-43d8-9d12-0cf85b8a8edf",
   "metadata": {},
   "outputs": [
    {
     "name": "stdout",
     "output_type": "stream",
     "text": [
      "+----+-----+\n",
      "|Year|count|\n",
      "+----+-----+\n",
      "|2003|    2|\n",
      "|2007|    2|\n",
      "|2018|    1|\n",
      "|2015|   61|\n",
      "|2006|    4|\n",
      "+----+-----+\n",
      "only showing top 5 rows\n"
     ]
    }
   ],
   "source": [
    "# Yearly grouping\n",
    "data.groupby('Year').count().show(5)"
   ]
  },
  {
   "cell_type": "code",
   "execution_count": 25,
   "id": "5f5b99d1-405d-45f0-90c3-39f9b22b88be",
   "metadata": {},
   "outputs": [
    {
     "name": "stdout",
     "output_type": "stream",
     "text": [
      "+----+---------+-----+\n",
      "|Year|Fuel_Type|count|\n",
      "+----+---------+-----+\n",
      "|2017|   Petrol|   31|\n",
      "|2013|   Petrol|   28|\n",
      "|2012|   Diesel|    7|\n",
      "|2010|   Petrol|   11|\n",
      "|2010|   Diesel|    4|\n",
      "|2003|   Petrol|    2|\n",
      "|2009|   Petrol|    6|\n",
      "|2018|   Diesel|    1|\n",
      "|2014|   Petrol|   24|\n",
      "|2011|   Diesel|    1|\n",
      "|2007|   Petrol|    2|\n",
      "|2004|   Petrol|    1|\n",
      "|2017|   Diesel|    4|\n",
      "|2006|   Petrol|    4|\n",
      "|2013|   Diesel|    5|\n",
      "|2015|      CNG|    1|\n",
      "|2012|   Petrol|   16|\n",
      "|2014|   Diesel|   14|\n",
      "|2015|   Petrol|   45|\n",
      "|2005|   Petrol|    3|\n",
      "+----+---------+-----+\n",
      "only showing top 20 rows\n"
     ]
    }
   ],
   "source": [
    "# multiple col grouping\n",
    "data.groupby('Year', 'Fuel_Type').count().show()"
   ]
  },
  {
   "cell_type": "code",
   "execution_count": 26,
   "id": "4ea76c25-7963-45d5-87db-b24851fc07f4",
   "metadata": {},
   "outputs": [
    {
     "name": "stdout",
     "output_type": "stream",
     "text": [
      "+----+---------+-----+\n",
      "|Year|Fuel_Type|count|\n",
      "+----+---------+-----+\n",
      "|2015|   Petrol|   45|\n",
      "|2016|   Petrol|   42|\n",
      "|2017|   Petrol|   31|\n",
      "|2013|   Petrol|   28|\n",
      "|2014|   Petrol|   24|\n",
      "|2011|   Petrol|   17|\n",
      "|2012|   Petrol|   16|\n",
      "|2015|   Diesel|   15|\n",
      "|2014|   Diesel|   14|\n",
      "|2010|   Petrol|   11|\n",
      "+----+---------+-----+\n",
      "only showing top 10 rows\n"
     ]
    }
   ],
   "source": [
    "# multiple col grouping & sorting values\n",
    "data.groupby('Year', 'Fuel_Type').count().sort(desc('count')).show(10)"
   ]
  },
  {
   "cell_type": "code",
   "execution_count": 27,
   "id": "8b0354e0-9ce9-4c19-b3d0-8ced08bcb1d6",
   "metadata": {},
   "outputs": [],
   "source": [
    "# created temporary view Car_Data to use it as sql table\n",
    "data.createOrReplaceTempView('Car_Data')"
   ]
  },
  {
   "cell_type": "code",
   "execution_count": 28,
   "id": "b2ba6956-b195-4d79-be80-110bf5e9f5be",
   "metadata": {},
   "outputs": [
    {
     "name": "stdout",
     "output_type": "stream",
     "text": [
      "+--------+----+-------------+-------------+----------+---------+-----------+------------+---------+\n",
      "|Car_Name|Year|Selling_Price|Present_Price|Kms_Driven|Fuel_Type|Seller_Type|Transmission|Car_Owner|\n",
      "+--------+----+-------------+-------------+----------+---------+-----------+------------+---------+\n",
      "|    ritz|2014|         3.35|         5.59|     27000|   Petrol|     Dealer|      Manual|1st Owner|\n",
      "|     sx4|2013|         4.75|         9.54|     43000|   Diesel|     Dealer|      Manual|1st Owner|\n",
      "|    ciaz|2017|         7.25|         9.85|      6900|   Petrol|     Dealer|      Manual|1st Owner|\n",
      "| wagon r|2011|         2.85|         4.15|      5200|   Petrol|     Dealer|      Manual|1st Owner|\n",
      "|   swift|2014|          4.6|         6.87|     42450|   Diesel|     Dealer|      Manual|2nd Owner|\n",
      "+--------+----+-------------+-------------+----------+---------+-----------+------------+---------+\n",
      "only showing top 5 rows\n"
     ]
    }
   ],
   "source": [
    "spark.sql('select * from Car_Data').show(5)"
   ]
  },
  {
   "cell_type": "code",
   "execution_count": 29,
   "id": "94cb345a-aa79-4ac8-9a8e-8c984256a59f",
   "metadata": {},
   "outputs": [
    {
     "name": "stdout",
     "output_type": "stream",
     "text": [
      "+--------+----+-------------+-------------+----------+---------+-----------+------------+---------+\n",
      "|Car_Name|Year|Selling_Price|Present_Price|Kms_Driven|Fuel_Type|Seller_Type|Transmission|Car_Owner|\n",
      "+--------+----+-------------+-------------+----------+---------+-----------+------------+---------+\n",
      "|    ritz|2014|         3.35|         5.59|     27000|   Petrol|     Dealer|      Manual|1st Owner|\n",
      "|    ciaz|2017|         7.25|         9.85|      6900|   Petrol|     Dealer|      Manual|1st Owner|\n",
      "| wagon r|2011|         2.85|         4.15|      5200|   Petrol|     Dealer|      Manual|1st Owner|\n",
      "|    ciaz|2015|         6.75|         8.12|     18796|   Petrol|     Dealer|      Manual|2nd Owner|\n",
      "|alto 800|2017|         2.85|          3.6|      2135|   Petrol|     Dealer|      Manual|2nd Owner|\n",
      "+--------+----+-------------+-------------+----------+---------+-----------+------------+---------+\n",
      "only showing top 5 rows\n"
     ]
    }
   ],
   "source": [
    "spark.sql('select * from Car_Data where Fuel_Type = \"Petrol\"').show(5)"
   ]
  },
  {
   "cell_type": "code",
   "execution_count": 30,
   "id": "f4df43fb-e380-4623-b333-6881bfa1e4bb",
   "metadata": {},
   "outputs": [
    {
     "name": "stdout",
     "output_type": "stream",
     "text": [
      "+--------+----+-------------+\n",
      "|Car_Name|Year|Selling_Price|\n",
      "+--------+----+-------------+\n",
      "|    ritz|2014|         3.35|\n",
      "|    ciaz|2017|         7.25|\n",
      "| wagon r|2011|         2.85|\n",
      "|    ciaz|2015|         6.75|\n",
      "|alto 800|2017|         2.85|\n",
      "+--------+----+-------------+\n",
      "only showing top 5 rows\n"
     ]
    }
   ],
   "source": [
    "spark.sql('select Car_Name, Year, Selling_Price from Car_Data where Fuel_Type = \"Petrol\"').show(5)"
   ]
  },
  {
   "cell_type": "code",
   "execution_count": 31,
   "id": "4363b5bf-cad9-401a-9ee1-41b1d98a6ec0",
   "metadata": {},
   "outputs": [
    {
     "name": "stdout",
     "output_type": "stream",
     "text": [
      "+----+--------+\n",
      "|Year|count(1)|\n",
      "+----+--------+\n",
      "|2003|       2|\n",
      "|2007|       2|\n",
      "|2018|       1|\n",
      "|2015|      61|\n",
      "|2006|       4|\n",
      "+----+--------+\n",
      "only showing top 5 rows\n"
     ]
    }
   ],
   "source": [
    "spark.sql('select Year, count(*) from Car_Data group by Year').show(5)"
   ]
  },
  {
   "cell_type": "code",
   "execution_count": 32,
   "id": "fa78b8c6-4b31-4f90-b10f-f2ba3314043a",
   "metadata": {},
   "outputs": [
    {
     "name": "stdout",
     "output_type": "stream",
     "text": [
      "+----+--------+\n",
      "|Year|count(1)|\n",
      "+----+--------+\n",
      "|2015|      61|\n",
      "|2013|      33|\n",
      "|2014|      38|\n",
      "|2016|      50|\n",
      "|2017|      35|\n",
      "+----+--------+\n",
      "\n"
     ]
    }
   ],
   "source": [
    "spark.sql(\"select Year, count(*) from Car_Data \\\n",
    "group by Year having count(*) > 30\").show(5)"
   ]
  },
  {
   "cell_type": "code",
   "execution_count": 33,
   "id": "66600ae0-6cc8-4117-9316-71d1e976c05d",
   "metadata": {},
   "outputs": [
    {
     "name": "stdout",
     "output_type": "stream",
     "text": [
      "+----+----------+\n",
      "|Year|total_cars|\n",
      "+----+----------+\n",
      "|2015|        61|\n",
      "|2013|        33|\n",
      "|2014|        38|\n",
      "|2016|        50|\n",
      "|2017|        35|\n",
      "+----+----------+\n",
      "\n"
     ]
    }
   ],
   "source": [
    "# aliasing count with total_cars\n",
    "spark.sql(\"select Year, count(*) total_cars from Car_Data \\\n",
    "group by Year having count(*) > 30\").show(5)"
   ]
  },
  {
   "cell_type": "code",
   "execution_count": 34,
   "id": "a1c5e135-1e44-4571-bdde-33305e107153",
   "metadata": {},
   "outputs": [
    {
     "name": "stdout",
     "output_type": "stream",
     "text": [
      "+----+--------+\n",
      "|Year|count(1)|\n",
      "+----+--------+\n",
      "|2015|      61|\n",
      "|2016|      50|\n",
      "|2014|      38|\n",
      "|2017|      35|\n",
      "|2013|      33|\n",
      "+----+--------+\n",
      "\n"
     ]
    }
   ],
   "source": [
    "# order count in descending\n",
    "spark.sql('select Year, count(*) from Car_Data \\\n",
    "group by Year having count(*) > 30 \\\n",
    "order by count(*) desc').show(6)"
   ]
  },
  {
   "cell_type": "code",
   "execution_count": 35,
   "id": "fa7cb109-e67f-4875-9c65-e89db5ce091b",
   "metadata": {},
   "outputs": [
    {
     "name": "stdout",
     "output_type": "stream",
     "text": [
      "+--------+----+-------------+---------+\n",
      "|Car_Name|Year|Selling_Price|Fuel_Type|\n",
      "+--------+----+-------------+---------+\n",
      "|fortuner|2015|         23.5|   Diesel|\n",
      "|fortuner|2015|         23.0|   Diesel|\n",
      "|fortuner|2015|         23.0|   Diesel|\n",
      "|fortuner|2014|        19.99|   Diesel|\n",
      "|fortuner|2014|        18.75|   Diesel|\n",
      "|  innova|2015|         12.5|   Diesel|\n",
      "| elantra|2015|        11.75|   Diesel|\n",
      "|  innova|2014|        11.25|   Diesel|\n",
      "|   creta|2015|        11.25|   Diesel|\n",
      "|    city|2015|         8.55|   Diesel|\n",
      "+--------+----+-------------+---------+\n",
      "only showing top 10 rows\n"
     ]
    }
   ],
   "source": [
    "spark.sql(\"select Car_Name, Year, Selling_Price, Fuel_Type from Car_Data \\\n",
    "where Year IN(2014, 2015) and Fuel_Type = 'Diesel' \\\n",
    "order by Selling_Price desc\").show(10)"
   ]
  },
  {
   "cell_type": "code",
   "execution_count": 39,
   "id": "9e553718-ae9c-496d-b4ef-d789eb559c68",
   "metadata": {},
   "outputs": [
    {
     "name": "stdout",
     "output_type": "stream",
     "text": [
      "+--------+----+---------+-------------+\n",
      "|Car_Name|Year|Fuel_Type|Selling_Price|\n",
      "+--------+----+---------+-------------+\n",
      "|fortuner|2015|   Diesel|         23.5|\n",
      "|fortuner|2015|   Diesel|         23.0|\n",
      "|fortuner|2015|   Diesel|         23.0|\n",
      "|fortuner|2014|   Diesel|        19.99|\n",
      "|fortuner|2014|   Diesel|        18.75|\n",
      "|  innova|2015|   Diesel|         12.5|\n",
      "| elantra|2015|   Diesel|        11.75|\n",
      "|  innova|2014|   Diesel|        11.25|\n",
      "|   creta|2015|   Diesel|        11.25|\n",
      "|    city|2015|   Diesel|         8.55|\n",
      "+--------+----+---------+-------------+\n",
      "only showing top 10 rows\n"
     ]
    }
   ],
   "source": [
    "data.select('Car_Name', 'Year', 'Fuel_Type', 'Selling_Price') \\\n",
    ".filter((col('Year').isin([2014, 2015])) & (col('Fuel_Type') == 'Diesel')) \\\n",
    ".sort(desc('Selling_Price')).show(10)"
   ]
  },
  {
   "cell_type": "code",
   "execution_count": null,
   "id": "845737f2-8c57-4a12-ae0f-e0c8861be99d",
   "metadata": {},
   "outputs": [],
   "source": []
  }
 ],
 "metadata": {
  "kernelspec": {
   "display_name": "Python [conda env:base] *",
   "language": "python",
   "name": "conda-base-py"
  },
  "language_info": {
   "codemirror_mode": {
    "name": "ipython",
    "version": 3
   },
   "file_extension": ".py",
   "mimetype": "text/x-python",
   "name": "python",
   "nbconvert_exporter": "python",
   "pygments_lexer": "ipython3",
   "version": "3.12.7"
  }
 },
 "nbformat": 4,
 "nbformat_minor": 5
}
